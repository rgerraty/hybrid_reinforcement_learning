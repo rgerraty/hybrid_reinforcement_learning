{
  "nbformat": 4,
  "nbformat_minor": 0,
  "metadata": {
    "colab": {
      "name": "gen_cmnist.ipynb",
      "provenance": [],
      "machine_shape": "hm",
      "authorship_tag": "ABX9TyP6zPhn4eCdCqitNC9dVBsG",
      "include_colab_link": true
    },
    "kernelspec": {
      "name": "python3",
      "display_name": "Python 3"
    },
    "accelerator": "GPU"
  },
  "cells": [
    {
      "cell_type": "markdown",
      "metadata": {
        "id": "view-in-github",
        "colab_type": "text"
      },
      "source": [
        "<a href=\"https://colab.research.google.com/github/rgerraty/hybrid_reinforcement_learning/blob/master/gen_cmnist.ipynb\" target=\"_parent\"><img src=\"https://colab.research.google.com/assets/colab-badge.svg\" alt=\"Open In Colab\"/></a>"
      ]
    },
    {
      "cell_type": "code",
      "metadata": {
        "id": "5Gw1Dm6bNgbV",
        "colab_type": "code",
        "colab": {}
      },
      "source": [
        "import os\n",
        "\n",
        "import numpy as np\n",
        "from PIL import Image\n",
        "\n",
        "import matplotlib.pyplot as plt\n",
        "\n",
        "import torch\n",
        "import torch.nn as nn\n",
        "import torch.nn.functional as F\n",
        "import torch.optim as optim\n",
        "from torch.autograd import grad\n",
        "from torchvision import transforms\n",
        "from torchvision import datasets\n",
        "import torchvision.datasets.utils as dataset_utils\n",
        "from torch.utils.data import DataLoader\n",
        "import torchvision.transforms as transforms\n",
        "import numpy.random as random\n",
        "import urllib"
      ],
      "execution_count": 0,
      "outputs": []
    },
    {
      "cell_type": "code",
      "metadata": {
        "id": "eZt8Z_AAhlsN",
        "colab_type": "code",
        "colab": {}
      },
      "source": [
        "trans=transforms.Compose([\n",
        "    transforms.RandomCrop(28, padding=2),\n",
        "    #transforms.RandomHorizontalFlip(),    \n",
        "    transforms.RandomRotation(2)])\n",
        "from six.moves import urllib\n",
        "opener = urllib.request.build_opener()\n",
        "opener.addheaders = [('User-agent', 'Mozilla/5.0')]\n",
        "urllib.request.install_opener(opener)\n",
        "\n",
        "\n",
        "\n",
        "train_mnist = datasets.mnist.MNIST('./data', train=True, download=True)#,transform=trans)\n",
        "test_mnist = datasets.mnist.MNIST('./data',train=False, download=True)#,transform=trans)\n"
      ],
      "execution_count": 0,
      "outputs": []
    },
    {
      "cell_type": "code",
      "metadata": {
        "id": "NzosAHw50wp9",
        "colab_type": "code",
        "outputId": "b39e0cc8-8e84-42cf-c267-28e693d13856",
        "colab": {
          "base_uri": "https://localhost:8080/",
          "height": 91
        }
      },
      "source": [
        "train_mnist"
      ],
      "execution_count": 5,
      "outputs": [
        {
          "output_type": "execute_result",
          "data": {
            "text/plain": [
              "Dataset MNIST\n",
              "    Number of datapoints: 60000\n",
              "    Root location: ./data\n",
              "    Split: Train"
            ]
          },
          "metadata": {
            "tags": []
          },
          "execution_count": 5
        }
      ]
    },
    {
      "cell_type": "code",
      "metadata": {
        "id": "pTYmBbtBNZbT",
        "colab_type": "code",
        "colab": {}
      },
      "source": [
        "def color_grayscale_arr(arr, dc=[0,0,225],bc=[250,122,0]):\n",
        "  \"\"\"Converts grayscale imae to either red or green\"\"\"\n",
        "  assert arr.ndim == 2\n",
        "  dtype = arr.dtype\n",
        "  h, w = arr.shape\n",
        "  dc=np.array(dc,ndmin=3).transpose()\n",
        "  bc=np.array(bc,ndmin=3).transpose()\n",
        "  arr = np.reshape(arr, [1,w, h])\n",
        "  arr=np.repeat(arr,repeats=3,axis=0)\n",
        "  arr=(arr>0)*dc\n",
        "\n",
        "  #arr=arr+((arr==0)*bc)\n",
        "  return arr\n",
        "  \n"
      ],
      "execution_count": 0,
      "outputs": []
    },
    {
      "cell_type": "code",
      "metadata": {
        "id": "0AiD5lXyc0HY",
        "colab_type": "code",
        "outputId": "09c7b83b-5674-429b-c786-759316d5ccc8",
        "colab": {
          "base_uri": "https://localhost:8080/",
          "height": 166
        }
      },
      "source": [
        "train_set=[]\n",
        "id_test_set=[]\n",
        "od_test_set=[]\n",
        "#need to add digit and bg colors values for train set\n",
        "n_train_cols=1\n",
        "dc_train=random.randint(0,256,(10,3,n_train_cols))\n",
        "bc_train=random.randint(0,256,(10,3,n_train_cols))\n",
        "rand_dig=np.array([1,3,5,7,9])#random.randint(0,9,9)\n",
        "\n",
        "for idx, (im, label) in enumerate(train_mnist):\n",
        "      if idx % 10000 == 0:\n",
        "        print(f'Converting image {idx}/{len(train_mnist)}')\n",
        "      im_array = np.array(im)\n",
        "      rand_bin=random.randint(0,n_train_cols)\n",
        "      colored_arr=color_grayscale_arr(im_array,dc=dc_train[label,:,rand_bin],bc=bc_train[label,:,rand_bin])\n",
        "      colored_arr=colored_arr.astype(np.uint8)\n",
        "\n",
        "      train_set.append((colored_arr,label))\n",
        "\n",
        "      dc_train_tmp=random.randint(0,256,(10,3,1))\n",
        "      bc_train_tmp=random.randint(0,256,(10,3,1))\n",
        "      #dc_train[rand_dig,:,:]=dc_train_tmp[rand_dig,:,:]\n",
        "      #bc_train[rand_dig,:,:]=bc_train_tmp[rand_dig,:,:]\n",
        "\n",
        "\n",
        "for idx, (im, label) in enumerate(test_mnist):\n",
        "      if idx % 10000 == 0:\n",
        "        print(f'Converting image {idx}/{len(test_mnist)}')\n",
        "      im_array = np.array(im)\n",
        "      rand_bin=random.randint(0,n_train_cols)\n",
        "      colored_arr=color_grayscale_arr(im_array,dc=dc_train[label,:,rand_bin],bc=bc_train[label,:,rand_bin])\n",
        "      colored_arr=colored_arr.astype(np.uint8)\n",
        "\n",
        "      id_test_set.append((colored_arr,label))\n",
        "\n",
        "      dc_train_tmp=random.randint(0,256,(10,3,1))\n",
        "      bc_train_tmp=random.randint(0,256,(10,3,1))\n",
        "      #dc_train[rand_dig,:,:]=dc_train_tmp[rand_dig,:,:]\n",
        "      #bc_train[rand_dig,:,:]=bc_train_tmp[rand_dig,:,:]\n",
        "\n",
        "for idx, (im, label) in enumerate(test_mnist):      \n",
        "      if idx % 10000 == 0:\n",
        "        print(f'Converting image {idx}/{len(test_mnist)}')\n",
        "      im_array=np.array(im)\n",
        "      colored_arr=color_grayscale_arr(im_array,dc=random.randint(0,255,3),bc=random.randint(0,255,3))\n",
        "      colored_arr=colored_arr.astype(np.uint8)\n",
        "      #test_set.append((Image.fromarray(colored_arr),label))\n",
        "      od_test_set.append((colored_arr,label))\n",
        "\n",
        "\n",
        "\n"
      ],
      "execution_count": 7,
      "outputs": [
        {
          "output_type": "stream",
          "text": [
            "Converting image 0/60000\n",
            "Converting image 10000/60000\n",
            "Converting image 20000/60000\n",
            "Converting image 30000/60000\n",
            "Converting image 40000/60000\n",
            "Converting image 50000/60000\n",
            "Converting image 0/10000\n",
            "Converting image 0/10000\n"
          ],
          "name": "stdout"
        }
      ]
    },
    {
      "cell_type": "code",
      "metadata": {
        "id": "49VrCP4otzJl",
        "colab_type": "code",
        "outputId": "7545f4c7-3ef8-4987-b100-c83e8db2bd14",
        "colab": {
          "base_uri": "https://localhost:8080/",
          "height": 612
        }
      },
      "source": [
        "\n",
        "from torchvision.utils import make_grid, save_image\n",
        "import matplotlib.pyplot as plt\n",
        "batch_size = 25\n",
        "\n",
        "train_loader=DataLoader(train_set,batch_size=batch_size,shuffle=True)\n",
        "batch = next(iter(train_loader))\n",
        "images = batch[0]\n",
        "labels = batch[1]\n",
        "im_size=images.shape[3]\n",
        "grid = make_grid(images, nrow=np.int(batch_size/5))\n",
        "#save_image(images, 'stl.png', nrow=12)\n",
        "plt.figure(figsize=(20,10))\n",
        "plt.imshow(grid.permute(1,2,0))\n"
      ],
      "execution_count": 8,
      "outputs": [
        {
          "output_type": "execute_result",
          "data": {
            "text/plain": [
              "<matplotlib.image.AxesImage at 0x7f2e6f220cf8>"
            ]
          },
          "metadata": {
            "tags": []
          },
          "execution_count": 8
        },
        {
          "output_type": "display_data",
          "data": {
            "image/png": "[encoded data removed]",
            "text/plain": [
              "<Figure size 1440x720 with 1 Axes>"
            ]
          },
          "metadata": {
            "tags": [],
            "needs_background": "light"
          }
        }
      ]
    },
    {
      "cell_type": "code",
      "metadata": {
        "id": "WEFWGuFqsc8O",
        "colab_type": "code",
        "outputId": "c5678a57-b815-4b66-d411-fc778aca04ef",
        "colab": {
          "base_uri": "https://localhost:8080/",
          "height": 612
        }
      },
      "source": [
        "\n",
        "from torchvision.utils import make_grid, save_image\n",
        "import matplotlib.pyplot as plt\n",
        "batch_size = 25\n",
        "\n",
        "\n",
        "train_loader=DataLoader(train_set,batch_size=batch_size,shuffle=True)\n",
        "od_test_loader=DataLoader(od_test_set,batch_size=batch_size,shuffle=True)\n",
        "batch = next(iter(od_test_loader))\n",
        "images = batch[0]\n",
        "labels = batch[1]\n",
        "im_size=images.shape[3]\n",
        "grid = make_grid(images, np.int(batch_size/5))\n",
        "#save_image(images, 'stl.png', nrow=12)\n",
        "plt.figure(figsize=(20,10))\n",
        "plt.imshow(grid.permute(1,2,0))"
      ],
      "execution_count": 9,
      "outputs": [
        {
          "output_type": "execute_result",
          "data": {
            "text/plain": [
              "<matplotlib.image.AxesImage at 0x7f2e6f313240>"
            ]
          },
          "metadata": {
            "tags": []
          },
          "execution_count": 9
        },
        {
          "output_type": "display_data",
          "data": {
            "image/png": "[encoded data removed]",
            "text/plain": [
              "<Figure size 1440x720 with 1 Axes>"
            ]
          },
          "metadata": {
            "tags": [],
            "needs_background": "light"
          }
        }
      ]
    },
    {
      "cell_type": "code",
      "metadata": {
        "id": "Vor_WcEZ5V-J",
        "colab_type": "code",
        "colab": {}
      },
      "source": [
        "class b_net(nn.Module):\n",
        "  def __init__(self,im_size=28,z_dim=50):\n",
        "    super(b_net,self).__init__()\n",
        "    self.relu=nn.ReLU()\n",
        "    self.conv1=nn.Sequential(nn.Conv2d(3,32,kernel_size=3,stride=1,padding=1),\n",
        "                                     nn.BatchNorm2d(32))\n",
        "    self.conv1_relu_mp=nn.Sequential(nn.ReLU(),\n",
        "                                    nn.MaxPool2d(2))\n",
        "    \n",
        "    self.conv2=nn.Sequential(nn.Conv2d(32,32,3,1,1),\n",
        "                                     nn.BatchNorm2d(32))\n",
        "    self.conv2_relu_mp=nn.Sequential(nn.ReLU(),\n",
        "                                     nn.MaxPool2d(2))\n",
        "    \n",
        "    self.conv3=nn.Sequential(nn.Conv2d(32,64,3,1,1),\n",
        "                                     nn.BatchNorm2d(64))\n",
        "    self.conv3_relu_mp=nn.Sequential(nn.ReLU(),\n",
        "                                     nn.MaxPool2d(2))\n",
        "    \n",
        "    self.fc=nn.Sequential(nn.Linear(3*3*64,z_dim),\n",
        "                          nn.ReLU())\n",
        "\n",
        "    self.logits=nn.Linear(z_dim,10)\n",
        "  \n",
        "  def forward(self,image,dropp=0):\n",
        "    conv1=self.conv1(image)\n",
        "    conv1_relu_mp=self.conv1_relu_mp(conv1)\n",
        "    conv2=self.conv2(conv1_relu_mp)\n",
        "    conv2_relu_mp=self.conv2_relu_mp(conv2)\n",
        "    conv3=self.conv3(conv2_relu_mp)\n",
        "    conv3_relu_mp=self.conv3_relu_mp(conv3)\n",
        "    fc=nn.functional.dropout(self.fc(conv3_relu_mp.view(-1,3*3*64)),\n",
        "                                p=dropp,training=self.training)\n",
        "    #discrim_fc=self.relu(self.discrim_fc(fc))\n",
        "    logits=nn.functional.dropout(self.logits(fc),p=dropp,training=self.training)\n",
        "    logits=self.logits(fc)\n",
        "    #softmax=self.softmax(fc)\n",
        "\n",
        "    return logits\n",
        "\n",
        "    \n",
        "\n"
      ],
      "execution_count": 0,
      "outputs": []
    },
    {
      "cell_type": "code",
      "metadata": {
        "id": "RikHjeQ2TVEF",
        "colab_type": "code",
        "colab": {}
      },
      "source": [
        "def create_z_sample(z_mu,z_logsigma,n_samps=1):\n",
        "    z_sample=0\n",
        "    z_sigma = torch.exp(z_logsigma)\n",
        "    eps = torch.randn_like(z_sigma)\n",
        "    for i in range(n_samps):\n",
        "      z_sample += eps.mul(z_sigma).add_(z_mu)\n",
        "    z_sample/=n_samps\n",
        "    return z_sample\n",
        "\n",
        "\n",
        "def kl_div_norm(mu1, logsigma1, mu2, logsigma2):\n",
        "  # KL( N(mu_1, sigma2_1) || N(mu_2, sigma2_2)) = \n",
        "  # \n",
        "  sigma1 = logsigma1.exp() \n",
        "  sigma2=np.exp(logsigma2)\n",
        "  kld = torch.log(sigma2/sigma1) + (sigma1**2 + (mu1 - mu2)**2)/(2*(sigma2**2)) - 1/2\n",
        "  return kld.sum()\n",
        "\n",
        "import math\n",
        "def get_conv_out_size(W=64,K=4,P=0,S=2):\n",
        "  o_s=math.floor(((W-K+2*P)/S)+1)\n",
        "  return o_s"
      ],
      "execution_count": 0,
      "outputs": []
    },
    {
      "cell_type": "code",
      "metadata": {
        "id": "ox_90UzUWb4E",
        "colab_type": "code",
        "colab": {}
      },
      "source": [
        "class vb_net(nn.Module):\n",
        "  def __init__(self,z_dim=20,n_samps=1,im_size=28):\n",
        "    super(vb_net,self).__init__()\n",
        "    self.relu=nn.ReLU()\n",
        "\n",
        "    self.conv1=nn.Sequential(nn.Conv2d(3,32,3,stride=1,padding=1),\n",
        "                             nn.BatchNorm2d(32)\n",
        "                             )\n",
        "    self.conv1_relu_mp=nn.MaxPool2d(2,return_indices=True)\n",
        "    self.conv1_size=self.conv1_relu_mp(self.conv1(torch.randn(1,3,im_size,im_size)))[0].size()\n",
        "\n",
        "    \n",
        "\n",
        "    self.conv2=nn.Sequential(nn.Conv2d(32,32,3,1,1),\n",
        "                             nn.BatchNorm2d(32)\n",
        "                             )\n",
        "    self.conv2_relu_mp=nn.MaxPool2d(2,return_indices=True)\n",
        "    self.conv2_size=self.conv2_relu_mp(self.conv2(torch.randn(1,self.conv1_size[1],self.conv1_size[2],self.conv1_size[3])))[0].size()\n",
        "\n",
        "    \n",
        "\n",
        "    self.conv3=nn.Sequential(nn.Conv2d(32,64,3,1,1),\n",
        "                             nn.BatchNorm2d(64)\n",
        "                             )\n",
        "    self.conv3_relu_mp=nn.MaxPool2d(2,return_indices=True)\n",
        "    \n",
        "\n",
        "    self.fc=nn.Sequential(nn.Linear(3*3*64,z_dim),\n",
        "                          nn.ReLU())\n",
        "    \n",
        "    self.z_mu=nn.Linear(z_dim,z_dim)\n",
        "    self.z_logsigma=nn.Linear(z_dim,z_dim)\n",
        "    #self.discrim_fc=nn.Linear(z_dim,10)\n",
        "    self.logits=nn.Linear(z_dim,10)\n",
        "    #self.softmax=nn.Softmax()\n",
        "\n",
        "    self.fc2=nn.Sequential(nn.Linear(z_dim,3*3*64),\n",
        "                           nn.ReLU())\n",
        "    \n",
        "    self.bnfc=nn.BatchNorm2d(64)\n",
        "    \n",
        "    self.dconv1_unp=nn.Upsample(size=self.conv2_size[2:],mode='nearest')\n",
        "    self.dconv1=nn.Sequential(nn.Conv2d(64,32,3,1,1),\n",
        "                              nn.BatchNorm2d(32)\n",
        "    )\n",
        "\n",
        "    self.dconv2_unp=nn.Upsample(scale_factor=2,mode='nearest')\n",
        "    self.dconv2=nn.Sequential(nn.Conv2d(32,32,3,1,1),\n",
        "                              nn.BatchNorm2d(32)\n",
        "    )\n",
        "\n",
        "    self.dconv3_unp=nn.Upsample(scale_factor=2,mode='nearest')\n",
        "    self.dconv3=nn.Sequential(nn.Conv2d(32,3,3,1,1),\n",
        "                              #nn.BatchNorm2d(3),\n",
        "                              nn.Sigmoid())\n",
        "    \n",
        "    \n",
        "  def forward(self,image,validation=False,dropp=0.0):\n",
        "    conv1=self.conv1(image)\n",
        "    max1_size = conv1.size()\n",
        "    conv1_relu_mp,indices1=self.conv1_relu_mp(self.relu(conv1))\n",
        "\n",
        "    conv2=self.conv2(conv1_relu_mp)\n",
        "    max2_size = conv2.size()\n",
        "    conv2_relu_mp,indices2=self.conv2_relu_mp(self.relu(conv2))\n",
        "\n",
        "    conv3=self.conv3(conv2_relu_mp)\n",
        "    max3_size = conv3.size()\n",
        "    conv3_relu_mp,indices3=self.conv3_relu_mp(self.relu(conv3))\n",
        "\n",
        "    fc=nn.functional.dropout(self.fc(conv3_relu_mp.view(-1,3*3*64)),\n",
        "                                p=dropp,training=self.training)\n",
        "\n",
        "    z_mu=self.z_mu(fc)\n",
        "    z_logsigma=self.z_logsigma(fc)\n",
        "    if not validation:\n",
        "      z_samp=create_z_sample(z_mu,z_logsigma)\n",
        "    else:\n",
        "      z_samp=z_mu\n",
        "    #discrim_fc=self.relu(self.discrim_fc(z_samp))\n",
        "    #logits=nn.functional.dropout(self.logits(z_samp),\n",
        "     #                            p=dropp,training=self.training)\n",
        "    logits=self.logits(z_samp)\n",
        "\n",
        "    kl_div=kl_div_norm(z_mu,z_logsigma,0,0)\n",
        "\n",
        "    #fc2=self.fc2(z_samp)\n",
        "    fc2=nn.functional.dropout(self.fc2(z_samp),\n",
        "                                 p=dropp,training=self.training)\n",
        "    fc2=self.bnfc(fc2.view(-1,64,3,3))\n",
        "\n",
        "    dconv1_unp=self.dconv1_unp(fc2)\n",
        "    dconv1=self.relu(self.dconv1(dconv1_unp))\n",
        "\n",
        "    dconv2_unp=self.dconv2_unp(dconv1)\n",
        "    dconv2=self.relu(self.dconv2(dconv2_unp))\n",
        "\n",
        "    dconv3_unp=self.dconv3_unp(dconv2)\n",
        "    dconv3=self.dconv3(dconv3_unp)\n",
        "    \n",
        "    return dconv3,logits,kl_div"
      ],
      "execution_count": 0,
      "outputs": []
    },
    {
      "cell_type": "code",
      "metadata": {
        "id": "WZNfI7T0ZqIB",
        "colab_type": "code",
        "colab": {}
      },
      "source": [
        "class Recon_loss(nn.Module):\n",
        "  def __init__(self):\n",
        "    super(Recon_loss,self).__init__()\n",
        "    self.loss=nn.BCELoss(reduction='sum')\n",
        "    #self.loss=lambda rec_x,x:torch.sum(torch.abs(rec_x-x))\n",
        "  def forward(self,recon_x,image):\n",
        "    recon_loss=self.loss(recon_x,image)\n",
        "    return recon_loss"
      ],
      "execution_count": 0,
      "outputs": []
    },
    {
      "cell_type": "code",
      "metadata": {
        "id": "93o1WFQ0IyOd",
        "colab_type": "code",
        "colab": {}
      },
      "source": [
        "class ivb_net(nn.Module):\n",
        "  def __init__(self,z_dim=20,n_samps=1,im_size=28):\n",
        "    super(ivb_net,self).__init__()\n",
        "    self.relu=nn.ReLU()\n",
        "    self.recon_loss=Recon_loss()\n",
        "    self.logit_loss=nn.CrossEntropyLoss(reduction='sum')\n",
        "\n",
        "    self.conv1=nn.Sequential(nn.Conv2d(3,32,3,stride=1,padding=1),\n",
        "                             nn.BatchNorm2d(32)\n",
        "                             )\n",
        "    self.conv1_relu_mp=nn.MaxPool2d(2,return_indices=True)\n",
        "    self.conv1_size=self.conv1_relu_mp(self.conv1(torch.randn(1,3,im_size,im_size)))[0].size()\n",
        "\n",
        "    \n",
        "\n",
        "    self.conv2=nn.Sequential(nn.Conv2d(32,32,3,1,1),\n",
        "                             nn.BatchNorm2d(32)\n",
        "                             )\n",
        "    self.conv2_relu_mp=nn.MaxPool2d(2,return_indices=True)\n",
        "    self.conv2_size=self.conv2_relu_mp(self.conv2(torch.randn(1,self.conv1_size[1],self.conv1_size[2],self.conv1_size[3])))[0].size()\n",
        "\n",
        "    \n",
        "\n",
        "    self.conv3=nn.Sequential(nn.Conv2d(32,64,3,1,1),\n",
        "                             nn.BatchNorm2d(64)\n",
        "                             )\n",
        "    self.conv3_relu_mp=nn.MaxPool2d(2,return_indices=True)\n",
        "    \n",
        "\n",
        "    self.fc=nn.Sequential(nn.Linear(3*3*64,z_dim),\n",
        "                          nn.ReLU())\n",
        "    \n",
        "    self.z_mu=nn.Linear(z_dim,z_dim)\n",
        "    self.z_logsigma=nn.Linear(z_dim,z_dim)\n",
        "\n",
        "    self.z_mu_update=nn.Linear(z_dim,z_dim)\n",
        "    self.z_logsigma_update=nn.Linear(z_dim,z_dim)\n",
        "\n",
        "    #self.discrim_fc=nn.Linear(z_dim,10)\n",
        "    self.logits=nn.Linear(z_dim,10)\n",
        "    #self.softmax=nn.Softmax()\n",
        "\n",
        "    \n",
        "\n",
        "    self.fc2=nn.Sequential(nn.Linear(z_dim,3*3*64),\n",
        "                           nn.ReLU())\n",
        "    \n",
        "    self.bnfc=nn.BatchNorm2d(64)\n",
        "    \n",
        "    self.dconv1_unp=nn.Upsample(size=self.conv2_size[2:],mode='nearest')\n",
        "    self.dconv1=nn.Sequential(nn.Conv2d(64,32,3,1,1),\n",
        "                              nn.BatchNorm2d(32)\n",
        "    )\n",
        "\n",
        "    self.dconv2_unp=nn.Upsample(scale_factor=2,mode='nearest')\n",
        "    self.dconv2=nn.Sequential(nn.Conv2d(32,32,3,1,1),\n",
        "                              nn.BatchNorm2d(32)\n",
        "    )\n",
        "\n",
        "    self.dconv3_unp=nn.Upsample(scale_factor=2,mode='nearest')\n",
        "    self.dconv3=nn.Sequential(nn.Conv2d(32,3,3,1,1),\n",
        "                              #nn.BatchNorm2d(3),\n",
        "                              nn.Sigmoid())\n",
        "    \n",
        "    \n",
        "  def forward(self,image,labels=labels,validation=False,iterations=15,dropp=0):\n",
        "    kl_div=0\n",
        "    kl_div_old=0\n",
        "    recon_loss_old=0\n",
        "    kl_div_new=0\n",
        "    recon_loss_new=0\n",
        "    recon_loss=0\n",
        "    logit_loss_old=0\n",
        "    logit_loss_new=0\n",
        "    logit_loss=0\n",
        "    error_x=image\n",
        "    for i in range(iterations):\n",
        "\n",
        "      conv1=self.conv1(error_x)\n",
        "\n",
        "      max1_size = conv1.size()\n",
        "      conv1_relu_mp,indices1=self.conv1_relu_mp(self.relu(conv1))\n",
        "\n",
        "      conv2=self.conv2(conv1_relu_mp)\n",
        "      max2_size = conv2.size()\n",
        "      conv2_relu_mp,indices2=self.conv2_relu_mp(self.relu(conv2))\n",
        "\n",
        "      conv3=self.conv3(conv2_relu_mp)\n",
        "      max3_size = conv3.size()\n",
        "      conv3_relu_mp,indices3=self.conv3_relu_mp(self.relu(conv3))\n",
        "\n",
        "      fc=nn.functional.dropout(self.fc(conv3_relu_mp.view(-1,3*3*64)),\n",
        "                                       p=dropp,training=self.training)\n",
        "\n",
        "      \n",
        "      if i>0:\n",
        "        #z_mu+=self.z_mu_error(error_z)\n",
        "        z_mu=self.z_mu(fc)+self.z_mu_update(z_mu)\n",
        "        #z_logsigma+=self.z_logsigma_error(error_z)\n",
        "        z_logsigma=self.z_logsigma(fc)+self.z_logsigma_update(z_logsigma)\n",
        "\n",
        "      else:\n",
        "        z_mu=self.z_mu(fc)\n",
        "        #z_mu+=self.z_mu_update(torch.zeros_like(z_mu))\n",
        "        z_logsigma=self.z_logsigma(fc)\n",
        "        #z_logsigma+=self.z_logsigma_update(torch.zeros_like(z_logsigma))\n",
        "    \n",
        "      if not validation:\n",
        "        z_samp=create_z_sample(z_mu,z_logsigma)\n",
        "      else:\n",
        "        z_samp=z_mu\n",
        "      #discrim_fc=self.relu(self.discrim_fc(z_samp))\n",
        "      \n",
        "\n",
        "      \n",
        "\n",
        "      #fc2=self.fc2(z_samp)\n",
        "      fc2=nn.functional.dropout(self.fc2(z_samp),\n",
        "                                       p=dropp,training=self.training)\n",
        "      fc2=self.bnfc(fc2.view(-1,64,3,3))\n",
        "\n",
        "      dconv1_unp=self.dconv1_unp(fc2)\n",
        "      dconv1=self.relu(self.dconv1(dconv1_unp))\n",
        "\n",
        "      dconv2_unp=self.dconv2_unp(dconv1)\n",
        "      dconv2=self.relu(self.dconv2(dconv2_unp))\n",
        "\n",
        "      dconv3_unp=self.dconv3_unp(dconv2)\n",
        "      dconv3=self.dconv3(dconv3_unp)\n",
        "\n",
        "      error_x=image-dconv3\n",
        "      #error_z=z_samp\n",
        "      \n",
        "      kl_div_new=kl_div_norm(z_mu,z_logsigma,0,0)\n",
        "      #kl_div+=(kl_div_new-kl_div_old)\n",
        "      #\n",
        "      kl_div+=(kl_div_new-kl_div_old)*np.exp(-.2*i)\n",
        "      kl_div_old=kl_div_new\n",
        "\n",
        "      recon_loss_new=self.recon_loss(dconv3,image)\n",
        "      #recon_loss+=(recon_loss_new-recon_loss_old)\n",
        "      \n",
        "      recon_loss+=(recon_loss_new-recon_loss_old)*np.exp(-.2*i)\n",
        "      recon_loss_old=recon_loss_new\n",
        "\n",
        "      logits=self.logits(z_samp)\n",
        "      logit_loss_new=self.logit_loss(logits,labels)\n",
        "      #logit_loss+=(logit_loss_new-logit_loss_old)\n",
        "      #\n",
        "      logit_loss+=(logit_loss_new-logit_loss_old)*np.exp(-.2*i)\n",
        "      logit_loss_old=logit_loss_new\n",
        "\n",
        "      recon_loss+=logit_loss\n",
        "    \n",
        "    #logits=nn.functional.dropout(self.logits(z_samp),p=dropp,training=self.training)\n",
        "    \n",
        "    return dconv3,logits,kl_div,recon_loss"
      ],
      "execution_count": 0,
      "outputs": []
    },
    {
      "cell_type": "code",
      "metadata": {
        "id": "MZXEohQBgtwc",
        "colab_type": "code",
        "colab": {}
      },
      "source": [
        "class ivb2_net(nn.Module):\n",
        "  def __init__(self,z_dim=20,n_samps=1,im_size=28):\n",
        "    super(ivb2_net,self).__init__()\n",
        "    self.relu=nn.ReLU()\n",
        "    self.recon_loss=Recon_loss()\n",
        "    self.logit_loss=nn.CrossEntropyLoss(reduction='sum')\n",
        "\n",
        "    self.conv1=nn.Sequential(nn.Conv2d(3,32,3,stride=1,padding=1),\n",
        "                             nn.BatchNorm2d(32)\n",
        "                             )\n",
        "    self.conv1_relu_mp=nn.MaxPool2d(2,return_indices=True)\n",
        "    self.conv1_size=self.conv1_relu_mp(self.conv1(torch.randn(1,3,im_size,im_size)))[0].size()\n",
        "\n",
        "    \n",
        "\n",
        "    self.conv2=nn.Sequential(nn.Conv2d(32,32,3,1,1),\n",
        "                             nn.BatchNorm2d(32)\n",
        "                             )\n",
        "    self.conv2_relu_mp=nn.MaxPool2d(2,return_indices=True)\n",
        "    self.conv2_size=self.conv2_relu_mp(self.conv2(torch.randn(1,self.conv1_size[1],self.conv1_size[2],self.conv1_size[3])))[0].size()\n",
        "\n",
        "    \n",
        "\n",
        "    self.conv3=nn.Sequential(nn.Conv2d(32,64,3,1,1),\n",
        "                             nn.BatchNorm2d(64)\n",
        "                             )\n",
        "    self.conv3_relu_mp=nn.MaxPool2d(2,return_indices=True)\n",
        "    \n",
        "\n",
        "    self.fc=nn.Sequential(nn.Linear(3*3*64,z_dim),\n",
        "                          nn.ReLU())\n",
        "    \n",
        "    self.z_mu=nn.Linear(z_dim,z_dim)\n",
        "    self.z_logsigma=nn.Linear(z_dim,z_dim)\n",
        "\n",
        "\n",
        "    self.conv1_update=nn.Sequential(nn.Conv2d(3,32,3,stride=1,padding=1),\n",
        "                             nn.BatchNorm2d(32)\n",
        "                             )\n",
        "    self.conv1_relu_mp_update=nn.MaxPool2d(2,return_indices=True)\n",
        "    self.conv1_size_update=self.conv1_relu_mp(self.conv1(torch.randn(1,3,im_size,im_size)))[0].size()\n",
        "\n",
        "    \n",
        "\n",
        "    self.conv2_update=nn.Sequential(nn.Conv2d(32,32,3,1,1),\n",
        "                             nn.BatchNorm2d(32)\n",
        "                             )\n",
        "    self.conv2_relu_mp_update=nn.MaxPool2d(2,return_indices=True)\n",
        "    self.conv2_size_update=self.conv2_relu_mp(self.conv2(torch.randn(1,self.conv1_size[1],self.conv1_size[2],self.conv1_size[3])))[0].size()\n",
        "\n",
        "    \n",
        "\n",
        "    self.conv3_update=nn.Sequential(nn.Conv2d(32,64,3,1,1),\n",
        "                             nn.BatchNorm2d(64)\n",
        "                             )\n",
        "    self.conv3_relu_mp_update=nn.MaxPool2d(2,return_indices=True)\n",
        "    \n",
        "\n",
        "    self.fc_update=nn.Sequential(nn.Linear(3*3*64,z_dim),\n",
        "                          nn.ReLU())\n",
        "    \n",
        "    self.z_mu_update=nn.Linear(z_dim,z_dim)\n",
        "    self.z_logsigma_update=nn.Linear(z_dim,z_dim)\n",
        "\n",
        "    #self.discrim_fc=nn.Linear(z_dim,10)\n",
        "    self.logits=nn.Linear(z_dim,10)\n",
        "    #self.softmax=nn.Softmax()\n",
        "\n",
        "    \n",
        "\n",
        "    self.fc2=nn.Sequential(nn.Linear(z_dim,3*3*64),\n",
        "                           nn.ReLU())\n",
        "    \n",
        "    self.bnfc=nn.BatchNorm2d(64)\n",
        "    \n",
        "    self.dconv1_unp=nn.Upsample(size=self.conv2_size[2:],mode='nearest')\n",
        "    self.dconv1=nn.Sequential(nn.Conv2d(64,32,3,1,1),\n",
        "                              nn.BatchNorm2d(32)\n",
        "    )\n",
        "\n",
        "    self.dconv2_unp=nn.Upsample(scale_factor=2,mode='nearest')\n",
        "    self.dconv2=nn.Sequential(nn.Conv2d(32,32,3,1,1),\n",
        "                              nn.BatchNorm2d(32)\n",
        "    )\n",
        "\n",
        "    self.dconv3_unp=nn.Upsample(scale_factor=2,mode='nearest')\n",
        "    self.dconv3=nn.Sequential(nn.Conv2d(32,3,3,1,1),\n",
        "                              #nn.BatchNorm2d(3),\n",
        "                              nn.Sigmoid())\n",
        "    \n",
        "    \n",
        "  def forward(self,image,labels=labels,validation=False,iterations=15,dropp=0):\n",
        "    kl_div=0\n",
        "    kl_div_old=0\n",
        "    recon_loss_old=0\n",
        "    kl_div_new=0\n",
        "    recon_loss_new=0\n",
        "    recon_loss=0\n",
        "    logit_loss_old=0\n",
        "    logit_loss_new=0\n",
        "    logit_loss=0\n",
        "\n",
        "    for i in range(iterations):\n",
        "\n",
        "      \n",
        "\n",
        "      \n",
        "      if i==0:\n",
        "        conv1=self.conv1(image)\n",
        "\n",
        "        max1_size = conv1.size()\n",
        "        conv1_relu_mp,indices1=self.conv1_relu_mp(self.relu(conv1))\n",
        "\n",
        "        conv2=self.conv2(conv1_relu_mp)\n",
        "        max2_size = conv2.size()\n",
        "        conv2_relu_mp,indices2=self.conv2_relu_mp(self.relu(conv2))\n",
        "\n",
        "        conv3=self.conv3(conv2_relu_mp)\n",
        "        max3_size = conv3.size()\n",
        "        conv3_relu_mp,indices3=self.conv3_relu_mp(self.relu(conv3))\n",
        "\n",
        "        fc=nn.functional.dropout(self.fc(conv3_relu_mp.view(-1,3*3*64)),\n",
        "                                       p=dropp,training=self.training)\n",
        "        #z_mu+=self.z_mu_error(error_z)\n",
        "        z_mu=self.z_mu(fc)\n",
        "        #z_logsigma+=self.z_logsigma_error(error_z)\n",
        "        z_logsigma=self.z_logsigma(fc)\n",
        "\n",
        "      else:\n",
        "        conv1=self.conv1_update(error_x)\n",
        "\n",
        "        max1_size = conv1.size()\n",
        "        conv1_relu_mp,indices1=self.conv1_relu_mp(self.relu(conv1))\n",
        "\n",
        "        conv2=self.conv2_update(conv1_relu_mp)\n",
        "        max2_size = conv2.size()\n",
        "        conv2_relu_mp,indices2=self.conv2_relu_mp_update(self.relu(conv2))\n",
        "\n",
        "        conv3=self.conv3_update(conv2_relu_mp)\n",
        "        max3_size = conv3.size()\n",
        "        conv3_relu_mp,indices3=self.conv3_relu_mp_update(self.relu(conv3))\n",
        "\n",
        "        fc=nn.functional.dropout(self.fc_update(conv3_relu_mp.view(-1,3*3*64)),\n",
        "                                       p=dropp,training=self.training)\n",
        "        z_mu=z_mu+self.z_mu_update(fc)\n",
        "        #z_mu+=self.z_mu_update(torch.zeros_like(z_mu))\n",
        "        z_logsigma=z_logsigma+self.z_logsigma_update(fc)\n",
        "        #z_logsigma+=self.z_logsigma_update(torch.zeros_like(z_logsigma))\n",
        "    \n",
        "      if not validation:\n",
        "        z_samp=create_z_sample(z_mu,z_logsigma)\n",
        "      else:\n",
        "        z_samp=z_mu\n",
        "      #discrim_fc=self.relu(self.discrim_fc(z_samp))\n",
        "      \n",
        "\n",
        "      \n",
        "\n",
        "      #fc2=self.fc2(z_samp)\n",
        "      fc2=nn.functional.dropout(self.fc2(z_samp),\n",
        "                                       p=dropp,training=self.training)\n",
        "      fc2=self.bnfc(fc2.view(-1,64,3,3))\n",
        "\n",
        "      dconv1_unp=self.dconv1_unp(fc2)\n",
        "      dconv1=self.relu(self.dconv1(dconv1_unp))\n",
        "\n",
        "      dconv2_unp=self.dconv2_unp(dconv1)\n",
        "      dconv2=self.relu(self.dconv2(dconv2_unp))\n",
        "\n",
        "      dconv3_unp=self.dconv3_unp(dconv2)\n",
        "      dconv3=self.dconv3(dconv3_unp)\n",
        "\n",
        "      error_x=image-dconv3\n",
        "      #error_z=z_samp\n",
        "      \n",
        "      kl_div_new=kl_div_norm(z_mu,z_logsigma,0,0)\n",
        "      #kl_div+=(kl_div_new-kl_div_old)\n",
        "      #\n",
        "      kl_div+=(kl_div_new-kl_div_old)*np.exp(-.1*i)\n",
        "      kl_div_old=kl_div_new\n",
        "\n",
        "      recon_loss_new=self.recon_loss(dconv3,image)\n",
        "      #recon_loss+=(recon_loss_new-recon_loss_old)\n",
        "      \n",
        "      recon_loss+=(recon_loss_new-recon_loss_old)*np.exp(-.1*i)\n",
        "      recon_loss_old=recon_loss_new\n",
        "\n",
        "      logits=self.logits(z_samp)\n",
        "      logit_loss_new=self.logit_loss(logits,labels)\n",
        "      #logit_loss+=(logit_loss_new-logit_loss_old)\n",
        "      #\n",
        "      logit_loss+=(logit_loss_new-logit_loss_old)*np.exp(-.1*i)\n",
        "      logit_loss_old=logit_loss_new\n",
        "\n",
        "      recon_loss+=logit_loss\n",
        "    \n",
        "    #logits=nn.functional.dropout(self.logits(z_samp),p=dropp,training=self.training)\n",
        "    \n",
        "    return dconv3,logits,kl_div,recon_loss"
      ],
      "execution_count": 0,
      "outputs": []
    },
    {
      "cell_type": "code",
      "metadata": {
        "id": "iw2ovlaWdkTD",
        "colab_type": "code",
        "colab": {}
      },
      "source": [
        "class rvbt_net(nn.Module):\n",
        "  def __init__(self,z_dim=20,n_samps=1,im_size=28):\n",
        "    super(rvbt_net,self).__init__()\n",
        "    self.relu=nn.ReLU()\n",
        "    self.recon_loss=Recon_loss()\n",
        "\n",
        "    self.conv1=nn.Sequential(nn.Conv2d(3,32,3,stride=1,padding=1),\n",
        "                             nn.BatchNorm2d(32)\n",
        "                             )\n",
        "    self.conv1_relu_mp=nn.MaxPool2d(2,return_indices=True)\n",
        "    self.conv1_size=self.conv1_relu_mp(self.conv1(torch.randn(1,3,im_size,im_size)))[0].size()\n",
        "\n",
        "    \n",
        "\n",
        "    self.conv2=nn.Sequential(nn.Conv2d(32,32,3,1,1),\n",
        "                             nn.BatchNorm2d(32)\n",
        "                             )\n",
        "    self.conv2_relu_mp=nn.MaxPool2d(2,return_indices=True)\n",
        "    self.conv2_size=self.conv2_relu_mp(self.conv2(torch.randn(1,self.conv1_size[1],self.conv1_size[2],self.conv1_size[3])))[0].size()\n",
        "\n",
        "    \n",
        "\n",
        "    self.conv3=nn.Sequential(nn.Conv2d(32,64,3,1,1),\n",
        "                             nn.BatchNorm2d(64)\n",
        "                             )\n",
        "    self.conv3_relu_mp=nn.MaxPool2d(2,return_indices=True)\n",
        "    \n",
        "\n",
        "    self.fc=nn.Sequential(nn.Linear(3*3*64,z_dim),\n",
        "                          nn.ReLU())\n",
        "    \n",
        "    self.z_mu=nn.Linear(z_dim,z_dim)\n",
        "    self.z_logsigma=nn.Linear(z_dim,z_dim)\n",
        "\n",
        "    #self.z_mu_error=nn.Linear(z_dim,z_dim)\n",
        "    self.z_mu_current=nn.Linear(z_dim,z_dim)\n",
        "    #self.z_logsigma_error=nn.Linear(z_dim,z_dim)\n",
        "    self.z_logsigma_current=nn.Linear(z_dim,z_dim)\n",
        "\n",
        "    #self.discrim_fc=nn.Linear(z_dim,10)\n",
        "    self.logits=nn.Linear(z_dim,10)\n",
        "    #self.softmax=nn.Softmax()\n",
        "\n",
        "    \n",
        "\n",
        "    self.fc2=nn.Sequential(nn.Linear(z_dim,3*3*64),\n",
        "                           nn.ReLU())\n",
        "    \n",
        "    self.bnfc=nn.BatchNorm2d(64)\n",
        "    \n",
        "    self.dconv1_unp=nn.Upsample(size=self.conv2_size[2:],mode='nearest')\n",
        "    self.dconv1=nn.Sequential(nn.Conv2d(64,32,3,1,1),\n",
        "                              nn.BatchNorm2d(32)\n",
        "    )\n",
        "\n",
        "    self.dconv2_unp=nn.Upsample(scale_factor=2,mode='nearest')\n",
        "    self.dconv2=nn.Sequential(nn.Conv2d(32,32,3,1,1),\n",
        "                              nn.BatchNorm2d(32)\n",
        "    )\n",
        "\n",
        "    self.dconv3_unp=nn.Upsample(scale_factor=2,mode='nearest')\n",
        "    self.dconv3=nn.Sequential(nn.Conv2d(32,3,3,1,1),\n",
        "                              nn.BatchNorm2d(3),\n",
        "                              nn.Sigmoid())\n",
        "    \n",
        "    \n",
        "  def forward(self,image,validation=True,iterations=10):\n",
        "    kl_div=0\n",
        "    recon_loss=0\n",
        "    error_x=image\n",
        "    for i in range(iterations):\n",
        "\n",
        "      conv1=self.conv1(error_x)\n",
        "\n",
        "      max1_size = conv1.size()\n",
        "      conv1_relu_mp,indices1=self.conv1_relu_mp(self.relu(conv1))\n",
        "\n",
        "      conv2=self.conv2(conv1_relu_mp)\n",
        "      max2_size = conv2.size()\n",
        "      conv2_relu_mp,indices2=self.conv2_relu_mp(self.relu(conv2))\n",
        "\n",
        "      conv3=self.conv3(conv2_relu_mp)\n",
        "      max3_size = conv3.size()\n",
        "      conv3_relu_mp,indices3=self.conv3_relu_mp(self.relu(conv3))\n",
        "\n",
        "      fc=self.fc(conv3_relu_mp.view(-1,3*3*64))\n",
        "\n",
        "      \n",
        "      if i>0:\n",
        "        #z_mu+=self.z_mu_error(error_z)\n",
        "        z_mu=self.z_mu(fc)+self.z_mu_current(z_mu)\n",
        "        #z_logsigma+=self.z_logsigma_error(error_z)\n",
        "        z_logsigma=self.z_logsigma(fc)+self.z_logsigma_current(z_logsigma)\n",
        "\n",
        "      else:\n",
        "        z_mu=self.z_mu(fc)\n",
        "        z_mu+=self.z_mu_current(torch.zeros_like(z_mu))\n",
        "        z_logsigma=self.z_logsigma(fc)\n",
        "        z_logsigma+=self.z_logsigma_current(torch.zeros_like(z_logsigma))\n",
        "    \n",
        "      if not validation:\n",
        "        z_samp=create_z_sample(z_mu,z_logsigma)\n",
        "      else:\n",
        "        z_samp=z_mu\n",
        "      #discrim_fc=self.relu(self.discrim_fc(z_samp))\n",
        "      \n",
        "\n",
        "      \n",
        "\n",
        "      fc2=self.fc2(z_samp)\n",
        "      fc2=self.bnfc(fc2.view(-1,64,3,3))\n",
        "\n",
        "      dconv1_unp=self.dconv1_unp(fc2)\n",
        "      dconv1=self.relu(self.dconv1(dconv1_unp))\n",
        "\n",
        "      dconv2_unp=self.dconv2_unp(dconv1)\n",
        "      dconv2=self.relu(self.dconv2(dconv2_unp))\n",
        "\n",
        "      dconv3_unp=self.dconv3_unp(dconv2)\n",
        "      dconv3=self.dconv3(dconv3_unp)\n",
        "\n",
        "      error_x=image-dconv3\n",
        "      #error_z=z_samp\n",
        "      kl_div+=(kl_div_norm(z_mu,z_logsigma,0,0)-kl_div)\n",
        "      recon_loss+=(self.recon_loss(dconv3,image)-recon_loss)\n",
        "    \n",
        "    logits=self.logits(z_samp)\n",
        "    \n",
        "    return dconv3,logits,kl_div,recon_loss"
      ],
      "execution_count": 0,
      "outputs": []
    },
    {
      "cell_type": "code",
      "metadata": {
        "id": "EoAB972aLEQU",
        "colab_type": "code",
        "colab": {}
      },
      "source": [
        "class label_loss(nn.Module):\n",
        "  def __init__(self):\n",
        "    super(label_loss,self).__init__()\n",
        "    self.loss=nn.CrossEntropyLoss(reduction='sum')\n",
        "  def forward(self,softmax,label,recon_loss=0,kl_loss=0,tau=1,beta=1):\n",
        "    loss=self.loss(softmax,label)\n",
        "    return (tau*loss)+recon_loss+beta*kl_loss\n"
      ],
      "execution_count": 0,
      "outputs": []
    },
    {
      "cell_type": "code",
      "metadata": {
        "id": "yDohzZCcLiUt",
        "colab_type": "code",
        "colab": {}
      },
      "source": [
        "device = torch.device('cuda' if torch.cuda.is_available() else 'cpu')\n",
        "batch_size=25\n",
        "model=ivb2_net(z_dim=50).to(device)\n",
        "loss_=label_loss()\n",
        "recon_loss_=Recon_loss()\n",
        "optimizer=torch.optim.Adam(model.parameters(),lr=0.0001)\n",
        "\n",
        "if 0: \n",
        "  for name,param in model.named_parameters():\n",
        "    if name=='conv1.weight' or name=='conv1.bias':\n",
        "      param.requires_grad=False\n",
        "  optimizer=torch.optim.Adam(filter(lambda p: p.requires_grad, model.parameters()),lr=1e-3)\n",
        "\n",
        "\n",
        "train_loader=DataLoader(train_set,batch_size=batch_size,shuffle=True)\n",
        "id_test_loader=DataLoader(id_test_set,batch_size=batch_size,shuffle=True)\n",
        "od_test_loader=DataLoader(od_test_set,batch_size=batch_size,shuffle=True)"
      ],
      "execution_count": 0,
      "outputs": []
    },
    {
      "cell_type": "code",
      "metadata": {
        "id": "pAdNTD--Zftb",
        "colab_type": "code",
        "colab": {}
      },
      "source": [
        "seed = 0\n",
        "\n",
        "train_loss = []\n",
        "train_acc=[]\n",
        "id_test_loss = []\n",
        "id_test_acc = []\n",
        "od_test_loss = []\n",
        "od_test_acc = []\n",
        "#test_label=[]\n",
        "beta=1"
      ],
      "execution_count": 0,
      "outputs": []
    },
    {
      "cell_type": "code",
      "metadata": {
        "id": "AjXdm7uUZt09",
        "colab_type": "code",
        "colab": {}
      },
      "source": [
        "def train(batch,epoch,train_size):\n",
        "  x=batch[0].float().to(device)/255\n",
        "  model.train()\n",
        "  kl_loss=0\n",
        "  recon_loss=0\n",
        "  acc=0\n",
        "  loss=0\n",
        "  model.zero_grad()\n",
        "  optimizer.zero_grad()\n",
        "  label_ind=batch[1].to(device)\n",
        "  label=torch.eye(10)[label_ind].to(device) \n",
        "\n",
        "  if model._get_name()=='b_net':\n",
        "    logits=model(x)\n",
        "    recon=0\n",
        "  elif model._get_name()=='vb_net' or model._get_name()=='hvb_net':\n",
        "    recon,logits,kl_loss=model(x,validation=False)\n",
        "    recon_loss=recon_loss_(recon,x)\n",
        "  elif model._get_name()=='ivb_net' or model._get_name()=='ivb2_net':\n",
        "    recon,logits,kl_loss,recon_loss=model(x,label_ind,validation=False)\n",
        "   \n",
        "\n",
        "  pred_lab=np.argmax(np.exp(logits.to('cpu').detach()),1)\n",
        "  \n",
        "  \n",
        "  loss=loss_(logits,label_ind,recon_loss=recon_loss,kl_loss=kl_loss,tau=tau,beta=beta)\n",
        "    \n",
        "   \n",
        "  acc=torch.sum((label_ind==pred_lab.to(device))+0).to('cpu').numpy()\n",
        "  acc=acc/train_size\n",
        "  \n",
        "  loss.backward()\n",
        "  optimizer.step()\n",
        "  loss=loss/train_size\n",
        "  \n",
        "  return x,label,pred_lab,recon,logits,acc,loss"
      ],
      "execution_count": 0,
      "outputs": []
    },
    {
      "cell_type": "code",
      "metadata": {
        "id": "1kjfI0WfLZMw",
        "colab_type": "code",
        "colab": {}
      },
      "source": [
        "def test(batch,epoch,test_size):\n",
        "  x=batch[0].float().to(device)/255\n",
        "  loss=0\n",
        "  kl_loss=0\n",
        "  recon_loss=0\n",
        "  acc=0\n",
        "  with torch.no_grad():\n",
        "    label_ind=batch[1].to(device)\n",
        "    label=torch.eye(10)[label_ind].to(device)  \n",
        "    if model._get_name()=='b_net':\n",
        "      logits=model(x)\n",
        "      recon=0\n",
        "    elif model._get_name()=='vb_net' or model._get_name()=='hvb_net':\n",
        "      recon,logits,kl_loss=model(x,validation=True)\n",
        "      recon_loss=recon_loss_(recon,x)\n",
        "    elif model._get_name()=='ivb_net' or model._get_name()=='ivb2_net':\n",
        "      recon,logits,kl_loss,recon_loss=model(x,label_ind,validation=True)\n",
        "      \n",
        "\n",
        "    pred_lab=np.argmax(np.exp(logits.to('cpu').detach()),1)\n",
        "  \n",
        "    loss=loss_(logits,label_ind,recon_loss=recon_loss,kl_loss=kl_loss,tau=tau,beta=beta)\n",
        "    loss=loss/test_size\n",
        "    acc=torch.sum((label_ind==pred_lab.to(device))+0).to('cpu').numpy()\n",
        "    acc=acc/test_size\n",
        "\n",
        "    \n",
        "  \n",
        "  return(x,label,pred_lab,recon,logits,acc,loss)\n"
      ],
      "execution_count": 0,
      "outputs": []
    },
    {
      "cell_type": "code",
      "metadata": {
        "id": "yI_nTdVS4KgJ",
        "colab_type": "code",
        "colab": {}
      },
      "source": [
        "tau=1\n",
        "beta=1\n",
        "n_iter=np.int(np.floor(len(train_loader.dataset)/train_loader.batch_size))\n",
        "num_steps=200\n",
        "num_epochs=30\n",
        "for i in range(num_epochs-1):\n",
        "  train_loader=DataLoader(train_set,batch_size=batch_size,shuffle=True)\n",
        "  id_test_loader=DataLoader(id_test_set,batch_size=batch_size,shuffle=True)\n",
        "  od_test_loader=DataLoader(od_test_set,batch_size=batch_size,shuffle=True)\n",
        "  it_train=iter(train_loader)\n",
        "  it_test_id=iter(id_test_loader)\n",
        "  it_test_od=iter(od_test_loader)\n",
        "  tr_acc=0\n",
        "  tr_loss=0\n",
        "  for j in range(n_iter):\n",
        "\n",
        "    data=next(it_train)\n",
        "    x,label,pred_lab,recon,logits,acc,loss=train(data,i,batch_size)\n",
        "    tr_acc+=acc/num_steps\n",
        "    tr_loss+=loss/num_steps\n",
        "\n",
        "    if (j % num_steps)==0 and (j>0):\n",
        "      train_acc.append(np.float16(tr_acc))\n",
        "      train_loss.append(np.float16(tr_loss.cpu().detach().numpy()))\n",
        "      print('====> Epoch: {} Average loss: {:.4f} Accuracy: {:.2f} '.format(i, loss,acc))\n",
        "\n",
        "      data=next(it_test_id)\n",
        "      x,label,pred_lab,recon,logits,acc,loss=test(data,i,batch_size)\n",
        "      print('====> Epoch: {} ID Test set loss: {:.4f} Accuracy: {:.2f} '.format(i, loss,acc))\n",
        "      id_test_loss.append(np.float16(loss.cpu().detach().numpy()))\n",
        "      id_test_acc.append(np.float16(acc))\n",
        "\n",
        "      data=next(it_test_od)\n",
        "      x,label,pred_lab,recon,logits,acc,loss=test(data,i,batch_size)\n",
        "      print('====> Epoch: {} OD Test set loss: {:.4f} Accuracy: {:.2f} '.format(i, loss,acc))\n",
        "      od_test_loss.append(np.float16(loss.cpu().detach().numpy()))\n",
        "      od_test_acc.append(np.float16(acc))\n",
        "      tr_acc=0\n",
        "      tr_loss=0\n",
        "      #test_label.append(label)\n",
        "    \n",
        "  beta=1/(i+1)"
      ],
      "execution_count": 0,
      "outputs": []
    },
    {
      "cell_type": "code",
      "metadata": {
        "id": "a2BzkHXSiaem",
        "colab_type": "code",
        "colab": {}
      },
      "source": [
        "torch.save(model.state_dict(), model._get_name())"
      ],
      "execution_count": 0,
      "outputs": []
    },
    {
      "cell_type": "code",
      "metadata": {
        "id": "0mFNXBFQmhqt",
        "colab_type": "code",
        "colab": {}
      },
      "source": [
        "from google.colab import files\n",
        "\n",
        "files.download(model._get_name())"
      ],
      "execution_count": 0,
      "outputs": []
    },
    {
      "cell_type": "code",
      "metadata": {
        "id": "SlzCVDILZC_S",
        "colab_type": "code",
        "colab": {}
      },
      "source": [
        "from google.colab import files\n",
        "files.upload()"
      ],
      "execution_count": 0,
      "outputs": []
    },
    {
      "cell_type": "code",
      "metadata": {
        "id": "PNRrJmxxZJam",
        "colab_type": "code",
        "colab": {
          "base_uri": "https://localhost:8080/",
          "height": 35
        },
        "outputId": "d11904f0-c90a-45f6-fbe2-15910c852634"
      },
      "source": [
        "model.load_state_dict(torch.load(model._get_name()))\n"
      ],
      "execution_count": 27,
      "outputs": [
        {
          "output_type": "execute_result",
          "data": {
            "text/plain": [
              "<All keys matched successfully>"
            ]
          },
          "metadata": {
            "tags": []
          },
          "execution_count": 27
        }
      ]
    },
    {
      "cell_type": "code",
      "metadata": {
        "colab_type": "code",
        "id": "8-49VgxJflU9",
        "outputId": "64336f69-7c1f-4283-a246-c556f54b7bfe",
        "colab": {
          "base_uri": "https://localhost:8080/",
          "height": 45
        }
      },
      "source": [
        "it=iter(train_loader)\n",
        "itt=iter(id_test_loader)\n",
        "ittt=iter(od_test_loader)\n",
        "data=next(ittt)\n",
        "x=data[0].float().to(device)/255\n",
        "label_ind=data[1].to(device)\n",
        "label=torch.eye(10)[label_ind].to(device)\n",
        "if model._get_name()=='vb_net' or model._get_name()=='hvb_net':\n",
        "  recon,logits,kl_loss=model(x,validation=True)\n",
        "elif model._get_name()=='b_net':\n",
        "  logits=model(x)\n",
        "\n",
        "else: \n",
        "  recon,logits,kl_loss,recon_loss=model(x,label_ind,validation=True)\n",
        "dig=random.randint(0,batch_size)\n",
        "Image.fromarray((data[0][dig].numpy().astype(np.uint8).transpose(1,2,0)))"
      ],
      "execution_count": 28,
      "outputs": [
        {
          "output_type": "execute_result",
          "data": {
            "image/png": "[encoded data removed]",
            "text/plain": [
              "<PIL.Image.Image image mode=RGB size=28x28 at 0x7F134D3F9320>"
            ]
          },
          "metadata": {
            "tags": []
          },
          "execution_count": 28
        }
      ]
    },
    {
      "cell_type": "code",
      "metadata": {
        "id": "yfejDL6I8Hb5",
        "colab_type": "code",
        "outputId": "a6cced2f-16a2-405b-cc56-72493b1c21fc",
        "colab": {
          "base_uri": "https://localhost:8080/",
          "height": 45
        }
      },
      "source": [
        "Image.fromarray((recon.detach().to('cpu').numpy()[dig,:,:,:]*255).astype(np.uint8).transpose(1,2,0))"
      ],
      "execution_count": 29,
      "outputs": [
        {
          "output_type": "execute_result",
          "data": {
            "image/png": "[encoded data removed]",
            "text/plain": [
              "<PIL.Image.Image image mode=RGB size=28x28 at 0x7F134D423860>"
            ]
          },
          "metadata": {
            "tags": []
          },
          "execution_count": 29
        }
      ]
    },
    {
      "cell_type": "code",
      "metadata": {
        "id": "_ZqufD34FgWR",
        "colab_type": "code",
        "outputId": "d66a6467-bef0-4b58-d155-27947c1df254",
        "colab": {
          "base_uri": "https://localhost:8080/",
          "height": 287
        }
      },
      "source": [
        "plt.bar(np.array(range(10)),(logits[dig].exp()/(logits[dig].exp().sum())).detach().cpu())"
      ],
      "execution_count": 30,
      "outputs": [
        {
          "output_type": "execute_result",
          "data": {
            "text/plain": [
              "<BarContainer object of 10 artists>"
            ]
          },
          "metadata": {
            "tags": []
          },
          "execution_count": 30
        },
        {
          "output_type": "display_data",
          "data": {
            "image/png": "[encoded data removed]",
            "text/plain": [
              "<Figure size 432x288 with 1 Axes>"
            ]
          },
          "metadata": {
            "tags": [],
            "needs_background": "light"
          }
        }
      ]
    },
    {
      "cell_type": "code",
      "metadata": {
        "id": "TgVUXZM2RsED",
        "colab_type": "code",
        "colab": {}
      },
      "source": [
        "train_acc[:]=[1.0 if i>1.0 else i for i in train_acc]\n",
        "fig, ax = plt.subplots(constrained_layout=True)\n",
        "plt.plot(train_acc,label=\"Training\")\n",
        "#plt.plot(np.arange(num_epochs)*num_steps,test_acc,label=\"Validation\")\n",
        "#plt.title(\"Accuracy: Training\")\n",
        "plt.xlabel(\"Number of steps\")\n",
        "plt.ylabel(\"Accuracy\")\n",
        "plt.legend()\n",
        "\n",
        "plt.show()\n",
        "  "
      ],
      "execution_count": 0,
      "outputs": []
    },
    {
      "cell_type": "code",
      "metadata": {
        "id": "j3uxA3YmdiN8",
        "colab_type": "code",
        "colab": {}
      },
      "source": [
        "id_test_acc[:]=[1.0 if i>1.0 else i for i in id_test_acc]\n",
        "\n",
        "fig, ax = plt.subplots(constrained_layout=True)\n",
        "plt.plot(id_test_acc,label=\"ID Test\")\n",
        "plt.plot(od_test_acc,label=\"OD Test\")\n",
        "#plt.title(\"Accuracy: Testing\")\n",
        "plt.xlabel(\"Number of steps\")\n",
        "plt.ylabel(\"Accuracy\")\n",
        "plt.legend()\n",
        "\n",
        "plt.show()"
      ],
      "execution_count": 0,
      "outputs": []
    },
    {
      "cell_type": "code",
      "metadata": {
        "id": "WlohlBYgvOX-",
        "colab_type": "code",
        "colab": {}
      },
      "source": [
        "fig, ax = plt.subplots(constrained_layout=True)\n",
        "plt.plot(id_test_loss,label=\"ID Test\")\n",
        "plt.plot(od_test_loss,label=\"OD Test\")\n",
        "#plt.title(\"Loss: Testing\")\n",
        "plt.xlabel(\"Number of steps\")\n",
        "plt.ylabel(\"Loss\")\n",
        "plt.legend()\n",
        "\n",
        "plt.show()"
      ],
      "execution_count": 0,
      "outputs": []
    },
    {
      "cell_type": "code",
      "metadata": {
        "id": "5y-BqxgjLCto",
        "colab_type": "code",
        "colab": {}
      },
      "source": [
        "import csv\n",
        "\n",
        "with open(model._get_name()+'.csv', 'w') as f:\n",
        "    writer = csv.writer(f)\n",
        "    writer.writerows(zip(train_acc, id_test_acc,od_test_acc,id_test_loss,od_test_loss))"
      ],
      "execution_count": 0,
      "outputs": []
    },
    {
      "cell_type": "code",
      "metadata": {
        "id": "zwcZoOUkwvFW",
        "colab_type": "code",
        "colab": {}
      },
      "source": [
        "from google.colab import files\n",
        "\n",
        "files.download(model._get_name()+'.csv')"
      ],
      "execution_count": 0,
      "outputs": []
    },
    {
      "cell_type": "code",
      "metadata": {
        "id": "iDi7GTpikri_",
        "colab_type": "code",
        "colab": {}
      },
      "source": [
        "od_train_loss=[]\n",
        "od_train_acc=[]"
      ],
      "execution_count": 0,
      "outputs": []
    },
    {
      "cell_type": "code",
      "metadata": {
        "id": "HbFF7ER2l68Z",
        "colab_type": "code",
        "colab": {}
      },
      "source": [
        "#beta=1\n",
        "tau=1\n",
        "itt=iter(od_test_loader)\n",
        "for name,param in model.named_parameters():\n",
        "    if name=='logits.weight' or name=='logits.bias' or name=='discrim_fc.weight' or name=='discrim_fc.bias':\n",
        "      param.requires_grad=True\n",
        "      print(name)\n",
        "    else:\n",
        "      param.requires_grad=False\n",
        "optimizer=torch.optim.SGD(model.parameters(),lr=0.0001)\n",
        "#optimizer=torch.optim.RMSprop(filter(lambda p: p.requires_grad, model.parameters()),lr=1e-3)\n",
        "for epoch in range(399):\n",
        "  data=next(itt)\n",
        "  x,label,pred_lab,recon,logits,acc,loss=train(data,epoch,batch_size)\n",
        "  print('====> Epoch: {} OD Test set loss: {:.4f} Accuracy: {:.2f} '.format(epoch, loss,acc))\n",
        "  od_train_loss.append(loss)\n",
        "  od_train_acc.append(acc)"
      ],
      "execution_count": 0,
      "outputs": []
    },
    {
      "cell_type": "code",
      "metadata": {
        "id": "KYuyIpXfMjrg",
        "colab_type": "code",
        "outputId": "d9a84a7a-aea6-46b2-c4ba-eb1827d4cbfe",
        "colab": {
          "base_uri": "https://localhost:8080/",
          "height": 313
        }
      },
      "source": [
        "fig, ax = plt.subplots(constrained_layout=True)\n",
        "plt.plot(od_train_acc,label=\"OD Test\")\n",
        "#plt.title(\"Accuracy: OD Training\")\n",
        "plt.xlabel(\"Number of steps\")\n",
        "plt.ylabel(\"Accuracy\")\n",
        "plt.legend()\n",
        "\n",
        "plt.show()"
      ],
      "execution_count": 36,
      "outputs": [
        {
          "output_type": "display_data",
          "data": {
            "image/png": "[encoded data removed]",
            "text/plain": [
              "<Figure size 432x288 with 1 Axes>"
            ]
          },
          "metadata": {
            "tags": [],
            "needs_background": "light"
          }
        }
      ]
    },
    {
      "cell_type": "code",
      "metadata": {
        "id": "OWaidTkK0OX3",
        "colab_type": "code",
        "outputId": "3809a9c4-b247-4de1-da12-57ca997e3a85",
        "colab": {
          "base_uri": "https://localhost:8080/",
          "height": 136
        }
      },
      "source": [
        "#need to fix\n",
        "class hvb_net(nn.Module):\n",
        "  def __init__(self,z_dim=32,n_samps=1,im_size=28):\n",
        "    super(hvb_net,self).__init__()\n",
        "    self.relu=nn.ReLU()\n",
        "\n",
        "    self.conv1=nn.Sequential(nn.Conv2d(3,32,3,stride=1,padding=1),\n",
        "                                     nn.BatchNorm2d(32))\n",
        "    self.conv1_relu_mp=nn.MaxPool2d(2,return_indices=True)\n",
        "    self.conv1_size=self.conv1_relu_mp(self.conv1(torch.randn(1,3,im_size,im_size)))[0].size()\n",
        "    self.z1_mu=nn.Linear(self.conv1_size[1]*(self.conv1_size[2]**2),self.conv1_size[1]*(self.conv1_size[2]**2))\n",
        "    self.z1_logsigma=nn.Linear(self.conv1_size[1]*(self.conv1_size[2]**2),self.conv1_size[1]*(self.conv1_size[2]**2))\n",
        "    self.z1_pred=nn.Linear(self.conv1_size[1]*(self.conv1_size[2]**2),10)\n",
        "\n",
        "    self.conv2=nn.Sequential(nn.Conv2d(32,32,3,1,1),\n",
        "                                     nn.BatchNorm2d(32))\n",
        "    self.conv2_relu_mp=nn.MaxPool2d(2,return_indices=True)\n",
        "    self.conv2_size=self.conv2_relu_mp(self.conv2(torch.randn(1,self.conv1_size[1],self.conv1_size[2],self.conv1_size[3])))[0].size()\n",
        "    self.z2_mu=nn.Linear(self.conv2_size[1]*(self.conv2_size[2]**2),self.conv2_size[1]*(self.conv2_size[2]**2))\n",
        "    self.z2_logsigma=nn.Linear(self.conv2_size[1]*(self.conv2_size[2]**2),self.conv2_size[1]*(self.conv2_size[2]**2))\n",
        "    self.z2_pred=nn.Linear(self.conv2_size[1]*(self.conv2_size[2]**2),20)\n",
        "\n",
        "    self.conv3=nn.Sequential(nn.Conv2d(32,64,3,1,1),\n",
        "                                     nn.BatchNorm2d(64))\n",
        "    self.conv3_relu_mp=nn.MaxPool2d(2,return_indices=True)\n",
        "    self.conv3_size=self.conv3_relu_mp(self.conv3(torch.randn(1,self.conv2_size[1],self.conv2_size[2],self.conv2_size[3])))[0].size()\n",
        "    self.z3_mu=nn.Linear(self.conv3_size[1]*(self.conv3_size[2]**2),self.conv3_size[1]*(self.conv3_size[2]**2))\n",
        "    self.z3_logsigma=nn.Linear(self.conv3_size[1]*(self.conv3_size[2]**2),self.conv3_size[1]*(self.conv3_size[2]**2))\n",
        "    self.z3_pred=nn.Linear(self.conv3_size[1]*(self.conv3_size[2]**2),30)\n",
        "    #print(self.conv1_size,self.conv2_size,self.conv3_size)\n",
        "\n",
        "    self.fc=nn.Sequential(nn.Linear(3*3*64,z_dim),\n",
        "                          nn.ReLU())\n",
        "    \n",
        "    self.z4_mu=nn.Linear(z_dim,z_dim)\n",
        "    self.z4_logsigma=nn.Linear(z_dim,z_dim)\n",
        "    self.logits=nn.Linear(z_dim,10)\n",
        "    #self.softmax=nn.Softmax()\n",
        "\n",
        "    self.fc2=nn.Linear(z_dim,3*3*64)\n",
        "    self.bnfc=nn.BatchNorm2d(64)\n",
        "    \n",
        "    self.z2d1=nn.Linear(self.conv3_size[1]*(self.conv3_size[2]**2),self.conv3_size[1]*(self.conv3_size[2]**2))\n",
        "    self.dconv1_unp=nn.Upsample(size=self.conv2_size[2:],mode='nearest')\n",
        "    self.dconv1=nn.Sequential(nn.Conv2d(64,32,3,1,1),\n",
        "                              nn.BatchNorm2d(32)\n",
        "    )\n",
        "\n",
        "    self.z2d2=nn.Linear(self.conv2_size[1]*(self.conv2_size[2]**2),self.conv2_size[1]*(self.conv2_size[2]**2))\n",
        "    self.dconv2_unp=nn.Upsample(scale_factor=2,mode='nearest')\n",
        "    self.dconv2=nn.Sequential(nn.Conv2d(32,32,3,1,1),\n",
        "                              nn.BatchNorm2d(32)\n",
        "    )\n",
        "\n",
        "    self.z2d3=nn.Linear(self.conv1_size[1]*(self.conv1_size[2]**2),self.conv1_size[1]*(self.conv1_size[2]**2))\n",
        "    self.dconv3_unp=nn.Upsample(scale_factor=2,mode='nearest')\n",
        "    self.dconv3=nn.Sequential(nn.Conv2d(32,3,3,1,1),\n",
        "                              #nn.BatchNorm2d(3),\n",
        "                              nn.Sigmoid())\n",
        "    \n",
        "  def forward(self,image,validation=True,beta=1):\n",
        "    conv1=self.conv1(image)\n",
        "    max1_size = conv1.size()\n",
        "    #print(max1_size)\n",
        "    conv1_relu_mp,indices1=self.conv1_relu_mp(self.relu(conv1))\n",
        "    \n",
        "    z1_mu=self.z1_mu(conv1_relu_mp.view(-1,self.conv1_size[1]*(self.conv1_size[2]**2)))\n",
        "    z1_logsigma=self.z1_logsigma(conv1_relu_mp.view(-1,self.conv1_size[1]*(self.conv1_size[2]**2)))\n",
        "    if not validation:\n",
        "      z1_samp=create_z_sample(z1_mu,z1_logsigma)\n",
        "    else:\n",
        "      z1_samp=z1_mu\n",
        "\n",
        "\n",
        "    #conv2=self.conv2(conv1_relu_mp)\n",
        "    conv2=self.conv2(z1_samp.view(-1,self.conv1_size[1],self.conv1_size[2],self.conv1_size[3]))\n",
        "    max2_size = conv2.size()\n",
        "    #print(max2_size)\n",
        "    conv2_relu_mp,indices2=self.conv2_relu_mp(self.relu(conv2))\n",
        "\n",
        "    z2_mu=self.z2_mu(conv2_relu_mp.view(-1,self.conv2_size[1]*(self.conv2_size[2]**2)))\n",
        "    z2_logsigma=self.z2_logsigma(conv2_relu_mp.view(-1,self.conv2_size[1]*(self.conv2_size[2]**2)))\n",
        "    if not validation:\n",
        "      z2_samp=create_z_sample(z2_mu,z2_logsigma)\n",
        "    else:\n",
        "      z2_samp=z2_mu\n",
        "\n",
        "    #conv3=self.conv3(conv2_relu_mp)\n",
        "    conv3=self.conv3(z2_samp.view(-1,self.conv2_size[1],self.conv2_size[2],self.conv2_size[3]))\n",
        "    max3_size = conv3.size()\n",
        "    #print(max3_size)\n",
        "    conv3_relu_mp,indices3=self.conv3_relu_mp(self.relu(conv3))\n",
        "\n",
        "    z3_mu=self.z3_mu(conv3_relu_mp.view(-1,self.conv3_size[1]*(self.conv3_size[2]**2)))\n",
        "    z3_logsigma=self.z3_logsigma(conv3_relu_mp.view(-1,self.conv3_size[1]*(self.conv3_size[2]**2)))\n",
        "    if not validation:\n",
        "      z3_samp=create_z_sample(z3_mu,z3_logsigma)\n",
        "    else:\n",
        "      z3_samp=z3_mu\n",
        "\n",
        "    fc=self.fc(conv3_relu_mp.view(-1,self.conv3_size[1]*(self.conv3_size[2]**2)))\n",
        "\n",
        "    z4_mu=self.z4_mu(fc)\n",
        "    z4_logsigma=self.z4_logsigma(fc)\n",
        "    if not validation:\n",
        "      z4_samp=create_z_sample(z4_mu,z4_logsigma)\n",
        "    else:\n",
        "      z4_samp=z4_mu\n",
        "    #logits=self.logits(torch.cat((z4_samp,z3_samp,z2_samp,z1_samp),1))\n",
        "    logits=self.logits(z4_samp)\n",
        "\n",
        "    kl_div=beta*kl_div_norm(z4_mu,z4_logsigma,0,0)\n",
        "    fc2=self.relu(self.fc2(z4_samp))\n",
        "    z3_pred=self.z3_pred(fc2)\n",
        "    \n",
        "    kl_div+=beta*kl_div_norm(z3_mu,z3_logsigma,z3_pred,0)\n",
        "    fc2=self.relu(fc2)\n",
        "    #print(fc2.size())\n",
        "\n",
        "    #dconv1_unp=self.dconv1_unp(fc2,indices3,max3_size)\n",
        "    z2d1=self.relu(self.z2d1(fc2).view(-1,self.conv3_size[1],self.conv3_size[2],self.conv3_size[3])\n",
        "    dconv1_unp=self.dconv1_unp(fc2)\n",
        "    #print(dconv1_unp.size())\n",
        "    dconv1=self.dconv1(dconv1_unp)\n",
        "    z2_pred=self.z2_pred(dconv1.view(-1,self.conv2_size[1]*self.conv2_size[2]*self.conv2_size[3]))\n",
        "    kl_div+=beta*kl_div_norm(z2_mu,z2_logsigma,z2_pred,0)\n",
        "    dconv1=self.relu(dconv1)\n",
        "\n",
        "    #dconv2_unp=self.dconv2_unp(dconv1,indices2,max2_size)\n",
        "    dconv2_unp=self.dconv2_unp(dconv1)\n",
        "    dconv2=self.dconv2(dconv2_unp)\n",
        "    z1_pred=self.z1_pred(dconv2.view(-1,self.conv1_size[1]*self.conv1_size[2]*self.conv1_size[3]))\n",
        "    kl_div+=beta*kl_div_norm(z1_mu,z1_logsigma,z1_pred,0)\n",
        "    dconv2=self.relu(dconv2)\n",
        "\n",
        "    #dconv3_unp=self.dconv3_unp(dconv2,indices1,max1_size)\n",
        "    dconv3_unp=self.dconv3_unp(dconv2)\n",
        "    dconv3=self.dconv3(dconv3_unp)\n",
        "    \n",
        "    return dconv3,logits,kl_div"
      ],
      "execution_count": 0,
      "outputs": [
        {
          "output_type": "error",
          "ename": "SyntaxError",
          "evalue": "ignored",
          "traceback": [
            "\u001b[0;36m  File \u001b[0;32m\"<ipython-input-53-ecb7adbbd859>\"\u001b[0;36m, line \u001b[0;32m121\u001b[0m\n\u001b[0;31m    dconv1_unp=self.dconv1_unp(fc2)\u001b[0m\n\u001b[0m             ^\u001b[0m\n\u001b[0;31mSyntaxError\u001b[0m\u001b[0;31m:\u001b[0m invalid syntax\n"
          ]
        }
      ]
    },
    {
      "cell_type": "code",
      "metadata": {
        "id": "fQDSuAtYmI1z",
        "colab_type": "code",
        "outputId": "869f6007-8c55-4f4e-b27f-f81b9a737813",
        "colab": {
          "base_uri": "https://localhost:8080/",
          "height": 134
        }
      },
      "source": [
        "class vblt_net(nn.Module):\n",
        "  def __init__(self):\n",
        "    super(b_net).__init__()\n",
        "    \n",
        "    self.conv1_relu=nn.Sequential(nn.Conv2d(3,32,3,stride=1,padding=1),\n",
        "                                     nn.BatchNorm2d(32),\n",
        "                             nn.ReLU())\n",
        "\n",
        "    self.conv1_l=nn.Sequential(nn.Conv2d(32,32,3,stride=1,padding=1),\n",
        "                                     nn.BatchNorm2d(32))\n",
        "    self.conv1_mp=nn.MaxPool2d(2)\n",
        "    \n",
        "    self.conv2_relu=nn.Sequential(nn.Conv2d(32,32,3,1,1)\n",
        "                                     nn.BatchNorm2d(32),\n",
        "                                     nn.Relu())\n",
        "    \n",
        "    self.conv2_l=nn.Sequential(nn.Conv2d(32,32,3,stride=1,padding=1),\n",
        "                                     nn.BatchNorm2d(32))\n",
        "    \n",
        "    self.conv2_mp=nn.MaxPool2d(2)\n",
        "    \n",
        "    self.fc=nn.Sequential(nn.Linear(7*7*32,z_dim),nn.ReLU())\n",
        "    self.z_mu=nn.Linear(z_dim,z_dim)\n",
        "    self.z_logsigma=nn.Linear(z_dim,z_dim)\n",
        "    self.logits=nn.Linear(z_dim,10)\n",
        "    #self.softmax=nn.Softmax()\n",
        "\n",
        "    self.fc2=nn.Sequential(nn.Linear(z_dim,7*7*32),\n",
        "                           nn.ReLU())\n",
        "    \n",
        "    self.dconv1=nn.Sequential(nn.ConvTranspose2d(32,32,4,2,1),\n",
        "                              nn.BatchNorm2d(32),\n",
        "    )\n",
        "    self.dconv1_relu=nn.ReLU()\n",
        "\n",
        "    self.dconv2=nn.Sequential(nn.ConvTranspose2d(32,3,4,2,1),\n",
        "                              nn.BatchNorm2d(3),\n",
        "                              nn.Sigmoid())\n",
        "\n",
        "  def forward(image,conv1_l=0,dconv1=0,conv2_l=0,fc2=0):\n",
        "    #f(x)\n",
        "    conv1_relu=self.conv1_relu(image)\n",
        "\n",
        "    conv1_mp=self.conv1_relu_mp(conv1)\n",
        "    self.conv1_l.state_dict()['0.weight'][:,2,2,:]=0\n",
        "    error1=conv1-conv1_l+dconv1\n",
        "    conv1_l=self.conv1_l(conv1)\n",
        "    conv2=self.conv2(error1)\n",
        "    self.conv2_l.state_dict()['0.weight'][:,2,2,:]=0\n",
        "    conv2_l=self.conv2_l(conv2)\n",
        "    error2=conv2-conv2_l+fc2\n",
        "    fc=self.fc()\n",
        "    \n"
      ],
      "execution_count": 0,
      "outputs": [
        {
          "output_type": "error",
          "ename": "SyntaxError",
          "evalue": "ignored",
          "traceback": [
            "\u001b[0;36m  File \u001b[0;32m\"<ipython-input-140-0cb02c86e726>\"\u001b[0;36m, line \u001b[0;32m14\u001b[0m\n\u001b[0;31m    nn.BatchNorm2d(32),\u001b[0m\n\u001b[0m     ^\u001b[0m\n\u001b[0;31mSyntaxError\u001b[0m\u001b[0;31m:\u001b[0m invalid syntax\n"
          ]
        }
      ]
    },
    {
      "cell_type": "code",
      "metadata": {
        "id": "Ao4-zizV5hX7",
        "colab_type": "code",
        "colab": {}
      },
      "source": [
        "#load model\n",
        "from torchvision.models import resnet50\n",
        "\n",
        "resnet_model = resnet50(pretrained=False, progress=False)\n",
        "resnet_model.classifier = nn.Sequential(\n",
        "            nn.Dropout(0.2),\n",
        "            nn.Linear(resnet_model.fc.out_features, 10),\n",
        "            nn.Softmax()\n",
        "        )\n",
        "resnet_model.loss="
      ],
      "execution_count": 0,
      "outputs": []
    }
  ]
}